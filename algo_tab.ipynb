{
 "cells": [
  {
   "cell_type": "code",
   "execution_count": 1,
   "metadata": {},
   "outputs": [
    {
     "name": "stdout",
     "output_type": "stream",
     "text": [
      "min:0, max: 4.856481481481482\n",
      "min:0, max: 4.856481481481482\n",
      "min:-5.643518518518519, max: 4.856481481481482\n",
      "min:-12.393518518518519, max: 4.856481481481482\n",
      "min:-12.393518518518519, max: 4.856481481481482\n",
      "min:-12.393518518518519, max: 4.856481481481482\n"
     ]
    }
   ],
   "source": [
    "## Recherche des extremums\n",
    "a=-1\n",
    "b=4\n",
    "N = range(a, b+1)\n",
    "y=0\n",
    "minimum=0\n",
    "maximum=0\n",
    "for x in N:\n",
    "    p = (b-a)/len(N)\n",
    "    x += p\n",
    "    y = x**3 - 5*x**2 + 5\n",
    "    \n",
    "    if y > maximum:\n",
    "        maximum = y\n",
    "    if y < minimum:\n",
    "        minimum = y\n",
    "    print('min:{}, max: {}'.format(minimum, maximum))"
   ]
  },
  {
   "cell_type": "code",
   "execution_count": 2,
   "metadata": {},
   "outputs": [
    {
     "name": "stdout",
     "output_type": "stream",
     "text": [
      "min:0, max: 4.856481481481482\n",
      "min:0, max: 4.856481481481482\n",
      "min:-5.643518518518519, max: 4.856481481481482\n",
      "min:-12.393518518518519, max: 4.856481481481482\n",
      "min:-12.393518518518519, max: 4.856481481481482\n",
      "min:-12.393518518518519, max: 4.856481481481482\n"
     ]
    },
    {
     "data": {
      "image/png": "[encoded data removed]",
      "text/plain": [
       "<Figure size 432x288 with 1 Axes>"
      ]
     },
     "metadata": {
      "needs_background": "light"
     },
     "output_type": "display_data"
    }
   ],
   "source": [
    "import matplotlib.pyplot as plt\n",
    "a=-1\n",
    "b=4\n",
    "N = range(a, b+1)\n",
    "y=0\n",
    "minimum=0\n",
    "maximum=0\n",
    "for x in N:\n",
    "    p = (b-a)/len(N)\n",
    "    x += p\n",
    "    y = x**3 - 5*x**2 + 5\n",
    "    \n",
    "    if y > maximum:\n",
    "        maximum = y\n",
    "    if y < minimum:\n",
    "        minimum = y\n",
    "    print('min:{}, max: {}'.format(minimum, maximum))\n",
    "    plt.scatter(x, y)\n",
    "    plt.plot(x, y)"
   ]
  },
  {
   "cell_type": "markdown",
   "metadata": {},
   "source": [
    "## Exercice 3"
   ]
  },
  {
   "cell_type": "markdown",
   "metadata": {},
   "source": [
    "#### 2- Écrire une instruction Python qui permet de générer N nombres aléatoires de l’intervalle [a; b]"
   ]
  },
  {
   "cell_type": "code",
   "execution_count": 3,
   "metadata": {},
   "outputs": [],
   "source": [
    "## Cette fonction permet de générer un tableau aléatoire de <<N>> nombre compris entre <<a>> et <<b>>\n",
    "import random \n",
    "def genererNAleatoire(N, a, b):\n",
    "    resultat= []\n",
    "    for i in range(N):\n",
    "        resultat.append(random.randint(a,b))\n",
    "    return resultat"
   ]
  },
  {
   "cell_type": "code",
   "execution_count": 4,
   "metadata": {},
   "outputs": [
    {
     "data": {
      "text/plain": [
       "[3, 2, -1]"
      ]
     },
     "execution_count": 4,
     "metadata": {},
     "output_type": "execute_result"
    }
   ],
   "source": [
    "genererNAleatoire(3, -1, 4)"
   ]
  },
  {
   "cell_type": "markdown",
   "metadata": {},
   "source": [
    "#### 2- Écrire un algorithme traduisant la méthode de recherche des extremums par balayage aléatoire."
   ]
  },
  {
   "cell_type": "code",
   "execution_count": 5,
   "metadata": {},
   "outputs": [],
   "source": [
    "## Ici on determine la fonction f(x)\n",
    "# fonction_f_de_x = lambda x: x**3 - 3 * x**2 + 5\n",
    "def fonction_f_de_x(x):\n",
    "    return x**3 - 3*x**2 + 2*x + 5"
   ]
  },
  {
   "cell_type": "code",
   "execution_count": 6,
   "metadata": {},
   "outputs": [],
   "source": [
    "## Cette fonction permet de calculer l'extramum\n",
    "def fonction_extramum(N, a, b, fonction_f_de_x):\n",
    "    minimum=0\n",
    "    maximum=0\n",
    "    y=0\n",
    "    for x in genererNAleatoire(N, a, b):\n",
    "        p = (b-a)/ N\n",
    "        x += p\n",
    "        y = fonction_f_de_x(x)\n",
    "\n",
    "        if y > maximum:\n",
    "            maximum = y\n",
    "        if y < minimum:\n",
    "            minimum = y\n",
    "        print('min:{}, max: {}'.format(minimum, maximum))\n",
    "        plt.scatter(x, y)\n",
    "        plt.plot(x, y)\n",
    "        "
   ]
  },
  {
   "cell_type": "code",
   "execution_count": 7,
   "metadata": {},
   "outputs": [
    {
     "name": "stdout",
     "output_type": "stream",
     "text": [
      "min:0, max: 44.375\n",
      "min:0, max: 44.375\n",
      "min:0, max: 44.375\n",
      "min:0, max: 44.375\n"
     ]
    },
    {
     "data": {
      "image/png": "[encoded data removed]",
      "text/plain": [
       "<Figure size 432x288 with 1 Axes>"
      ]
     },
     "metadata": {
      "needs_background": "light"
     },
     "output_type": "display_data"
    }
   ],
   "source": [
    "fonction_extramum(4, -1, 5, fonction_f_de_x)"
   ]
  },
  {
   "cell_type": "markdown",
   "metadata": {},
   "source": [
    "#### 4-Cette méthode semble-elle plus performante que la méthode présentée dans l’exercice 2 ?"
   ]
  },
  {
   "cell_type": "markdown",
   "metadata": {},
   "source": [
    "## Cette méthode semble-elle plus performante que la méthode présentée dans l’exercice 2 ?"
   ]
  },
  {
   "cell_type": "markdown",
   "metadata": {},
   "source": [
    "## Exercice 4"
   ]
  },
  {
   "cell_type": "markdown",
   "metadata": {},
   "source": [
    "#### 1- Calculer les distances AB BC CD"
   ]
  },
  {
   "cell_type": "code",
   "execution_count": 8,
   "metadata": {},
   "outputs": [],
   "source": [
    "import math as mt\n",
    "## Cette fonction permet de calculer l'ordonnée d'un point\n",
    "# fx = lambda x: 1/(x+1)\n",
    "def fx(x):\n",
    "    return 1/(x+1)\n",
    "\n",
    "## Cette fonction permet de calculer la distance entre deux point à travers leurs abscisse\n",
    "# distance = lambda x1, x2: mt.sqrt((x-x2)**2 + (fx(x1) - fx(x2))**2)\n",
    "def distance(x1, x2):\n",
    "    return mt.sqrt( ( x1 - x2 )**2 + ( fx(x1)-fx(x2) )**2 ) "
   ]
  },
  {
   "cell_type": "code",
   "execution_count": 9,
   "metadata": {},
   "outputs": [
    {
     "name": "stdout",
     "output_type": "stream",
     "text": [
      "1.118033988749895\n",
      "1.0137937550497031\n",
      "1.0034662148993578\n"
     ]
    }
   ],
   "source": [
    "AB = distance(0, 1)\n",
    "print(AB)\n",
    "BC = distance(1, 2)\n",
    "print(BC)\n",
    "CD = distance(2, 3)\n",
    "print(CD)"
   ]
  },
  {
   "cell_type": "code",
   "execution_count": 10,
   "metadata": {},
   "outputs": [],
   "source": [
    "distTotale = AB + BC + CD"
   ]
  },
  {
   "cell_type": "code",
   "execution_count": 11,
   "metadata": {},
   "outputs": [
    {
     "data": {
      "text/plain": [
       "3.14"
      ]
     },
     "execution_count": 11,
     "metadata": {},
     "output_type": "execute_result"
    }
   ],
   "source": [
    "## La fonction round arrondi permet d'arrondi les nombres à virgule flottant\n",
    "distTotale = round(distTotale, 2)\n",
    "distTotale"
   ]
  },
  {
   "cell_type": "markdown",
   "metadata": {},
   "source": [
    "#### 2- Une meilleure approximation s’obtient avec un plus grand nombre de points sur la courbe dont les abscisses sont réparties régulièrement sur l’intervalle [0; 3]."
   ]
  },
  {
   "cell_type": "code",
   "execution_count": 12,
   "metadata": {},
   "outputs": [],
   "source": [
    "def distanceCourbe(N, a, b):\n",
    "    listPoints = genererNAleatoire(N, a, b)\n",
    "    distCours = 0\n",
    "    for i in range(len(listPoints)-1):\n",
    "        distCours = distCours + distance(listPoints[i], listPoints[i+1])\n",
    "    return distCours"
   ]
  },
  {
   "cell_type": "code",
   "execution_count": 13,
   "metadata": {},
   "outputs": [
    {
     "data": {
      "text/plain": [
       "24.224453117763783"
      ]
     },
     "execution_count": 13,
     "metadata": {},
     "output_type": "execute_result"
    }
   ],
   "source": [
    "distanceCourbe(20, 0, 3)"
   ]
  },
  {
   "cell_type": "markdown",
   "metadata": {},
   "source": [
    "#### 3-Adapter le programme précédent pour obtenir une approximation de la longueur de la courbe de la fonction f sur l’intervalle [1; 5]. Donner cette longueur."
   ]
  },
  {
   "cell_type": "code",
   "execution_count": 14,
   "metadata": {},
   "outputs": [
    {
     "data": {
      "text/plain": [
       "34.12580216465162"
      ]
     },
     "execution_count": 14,
     "metadata": {},
     "output_type": "execute_result"
    }
   ],
   "source": [
    "distanceCourbe(20, 1, 5)"
   ]
  },
  {
   "cell_type": "markdown",
   "metadata": {},
   "source": [
    "## Exercice 5"
   ]
  },
  {
   "cell_type": "code",
   "execution_count": 19,
   "metadata": {},
   "outputs": [],
   "source": [
    "import math as mt\n",
    "# calcule_pi = lambda x: mt.sqrt(1-x**2)\n",
    "def valeur_representative_de_f(x):\n",
    "    return mt.sqrt(1-x**2)"
   ]
  },
  {
   "cell_type": "markdown",
   "metadata": {},
   "source": [
    "#### la longueur de la courbe représentative de f, de la valeur approchée de π sur [-1, 1]"
   ]
  },
  {
   "cell_type": "code",
   "execution_count": 46,
   "metadata": {},
   "outputs": [],
   "source": [
    "### on retrouve la valeur répresentative de f plus proche de pi avec ces valeurs\n",
    "## [0.17709, 0.2991, 0.8095, 0.88, 0.99]\n",
    "valeur_approchee_de_pi=0 \n",
    "for i in [0.17701, 0.2991, 0.8095, 0.88, 0.99]:\n",
    "    valeur_approchee_de_pi += valeur_representative_de_f(i)"
   ]
  },
  {
   "cell_type": "code",
   "execution_count": 47,
   "metadata": {},
   "outputs": [
    {
     "data": {
      "text/plain": [
       "3.141591745167348"
      ]
     },
     "execution_count": 47,
     "metadata": {},
     "output_type": "execute_result"
    }
   ],
   "source": [
    "valeur_approchee_de_pi"
   ]
  },
  {
   "cell_type": "code",
   "execution_count": null,
   "metadata": {},
   "outputs": [],
   "source": []
  },
  {
   "cell_type": "code",
   "execution_count": null,
   "metadata": {},
   "outputs": [],
   "source": []
  }
 ],
 "metadata": {
  "kernelspec": {
   "display_name": "Python 3",
   "language": "python",
   "name": "python3"
  },
  "language_info": {
   "codemirror_mode": {
    "name": "ipython",
    "version": 3
   },
   "file_extension": ".py",
   "mimetype": "text/x-python",
   "name": "python",
   "nbconvert_exporter": "python",
   "pygments_lexer": "ipython3",
   "version": "3.8.5"
  }
 },
 "nbformat": 4,
 "nbformat_minor": 4
}
